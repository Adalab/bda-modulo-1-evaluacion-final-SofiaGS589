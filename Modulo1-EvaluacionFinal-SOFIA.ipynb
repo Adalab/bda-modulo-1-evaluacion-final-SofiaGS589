{
 "cells": [
  {
   "cell_type": "markdown",
   "metadata": {},
   "source": [
    "# MODULO 1 - EVALUACION FINAL - SOFIA"
   ]
  }
 ],
 "metadata": {
  "language_info": {
   "name": "python"
  }
 },
 "nbformat": 4,
 "nbformat_minor": 2
}
