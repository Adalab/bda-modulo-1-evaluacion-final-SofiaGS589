{
 "cells": [
  {
   "cell_type": "markdown",
   "metadata": {},
   "source": [
    "# MODULO 1 - EVALUACION FINAL - SOFIA"
   ]
  },
  {
   "cell_type": "markdown",
   "metadata": {},
   "source": [
    "_Vamos a tener tres estructuras principales con las que vamos a trabajar:_"
   ]
  },
  {
   "cell_type": "markdown",
   "metadata": {},
   "source": [
    "1 - 'inventario' (lista de diccionarios): Una estructura para almacenar los\n",
    "productos en el inventario. Cada producto debe ser representado como un\n",
    "diccionario con las siguientes claves: 'nombre', 'precio' y 'cantidad'. Al principio deberá ser una lista vacía.\n",
    "Ejemplo de como debería ser:\n",
    "[{'nombre': 'Camisa', 'precio': 20, 'cantidad': 40},\n",
    "{'nombre': 'Pantalón', 'precio': 30, 'cantidad': 30}]"
   ]
  },
  {
   "cell_type": "code",
   "execution_count": 548,
   "metadata": {},
   "outputs": [],
   "source": [
    "# crear una estructura llamada inventario que sea una lista de diccionarios:\n",
    "inventario = []\n",
    "# crear un diccionario con las claves que queremos que tenga:\n",
    "# nuevo_producto = {'nombre': nombre, 'precio': precio, 'cantidad': cantidad}"
   ]
  },
  {
   "cell_type": "markdown",
   "metadata": {},
   "source": [
    "2 - 'clientes' (diccionario): Una estructura para llevar un registro de los\n",
    "clientes de la tienda. Cada cliente debe ser representado como un\n",
    "diccionario con las siguientes claves: 'nombre' y 'email'. Al inicio\n",
    "deberá ser un diccionario vacío. Además, cada cliente debe tener un\n",
    "historial de compras. \n",
    "Deberá parecerse a:\n",
    "{'Cliente1': {'email': 'cliente1@email.com', 'compras': []},\n",
    "'Cliente2': {'email': 'cliente2@email.com', 'compras': []}}"
   ]
  },
  {
   "cell_type": "code",
   "execution_count": 549,
   "metadata": {},
   "outputs": [],
   "source": [
    "# crear un diccionario con los datos del cliente:\n",
    "# clientes = {'nombre': nombre, 'email': email}\n",
    "clientes = {}\n",
    "# crear un diccionario con el histórico de los clientes:\n",
    "# historico = {'cliente': cliente, }\n",
    "# cliente = {'email': email, 'compras': []}"
   ]
  },
  {
   "cell_type": "markdown",
   "metadata": {},
   "source": [
    "3 - 'ventas_totales' (float): Una variable para llevar un registro de las\n",
    "ventas totales de la tienda. Inicializalo con valor 0."
   ]
  },
  {
   "cell_type": "code",
   "execution_count": 550,
   "metadata": {},
   "outputs": [],
   "source": [
    "# crear variable float con las ventas totales:\n",
    "ventas_totales = float(0)"
   ]
  },
  {
   "cell_type": "code",
   "execution_count": 551,
   "metadata": {},
   "outputs": [
    {
     "data": {
      "text/plain": [
       "0.0"
      ]
     },
     "execution_count": 551,
     "metadata": {},
     "output_type": "execute_result"
    }
   ],
   "source": [
    "ventas_totales"
   ]
  },
  {
   "cell_type": "markdown",
   "metadata": {},
   "source": [
    "_A lo largo de esta evaluación tendrás que crear una serie de funciones que cumplan con los siguientes\n",
    "requisitos:_"
   ]
  },
  {
   "cell_type": "markdown",
   "metadata": {},
   "source": [
    "1 - 'agregar_producto(nombre, precio, cantidad)': Esta función agrega un\n",
    "producto al inventario o actualiza su cantidad si ya existe. Debe recibir el\n",
    "nombre, precio y cantidad del producto como parámetros.\n",
    "- Itera a través del inventario y compara los nombres de los productos\n",
    "con el nombre proporcionado.\n",
    "- Si el producto ya existe, actualiza la cantidad.\n",
    "- Si no existe, agrega un nuevo producto al inventario."
   ]
  },
  {
   "cell_type": "code",
   "execution_count": 552,
   "metadata": {},
   "outputs": [
    {
     "data": {
      "text/plain": [
       "[]"
      ]
     },
     "execution_count": 552,
     "metadata": {},
     "output_type": "execute_result"
    }
   ],
   "source": [
    "inventario"
   ]
  },
  {
   "cell_type": "code",
   "execution_count": 553,
   "metadata": {},
   "outputs": [],
   "source": [
    "# creamos la 1ª función:\n",
    "def agregar_productos(nombre, precio, cantidad, inventario=inventario):\n",
    "    # iterar por el inventario:\n",
    "    for producto in inventario:\n",
    "        # comprobar que el producto se encuentra en el inventario, o no:\n",
    "        if producto['nombre'] == nombre:\n",
    "            # avisamos que el producto ya existe y hay que actualizarlo:\n",
    "            print('El producto', nombre, 'ya existe. Vamos a actualizar su cantidad')\n",
    "            producto['cantidad'] += cantidad\n",
    "            return\n",
    "    # agregamos este nuevo producto:\n",
    "    nuevo_producto = {'nombre': nombre, 'precio': precio, 'cantidad': cantidad}\n",
    "    # y lo agregamos a la lista del inventario:\n",
    "    inventario.append(nuevo_producto)\n"
   ]
  },
  {
   "cell_type": "code",
   "execution_count": 554,
   "metadata": {},
   "outputs": [
    {
     "data": {
      "text/plain": [
       "[]"
      ]
     },
     "execution_count": 554,
     "metadata": {},
     "output_type": "execute_result"
    }
   ],
   "source": [
    "inventario"
   ]
  },
  {
   "cell_type": "code",
   "execution_count": 598,
   "metadata": {},
   "outputs": [
    {
     "name": "stdout",
     "output_type": "stream",
     "text": [
      "El producto mesa ya existe. Vamos a actualizar su cantidad\n"
     ]
    }
   ],
   "source": [
    "agregar_productos('mesa', 5, 10)"
   ]
  },
  {
   "cell_type": "code",
   "execution_count": 556,
   "metadata": {},
   "outputs": [
    {
     "data": {
      "text/plain": [
       "[{'nombre': 'mesa', 'precio': 5, 'cantidad': 10}]"
      ]
     },
     "execution_count": 556,
     "metadata": {},
     "output_type": "execute_result"
    }
   ],
   "source": [
    "inventario"
   ]
  },
  {
   "cell_type": "code",
   "execution_count": 646,
   "metadata": {},
   "outputs": [],
   "source": [
    "agregar_productos('silla', 3, 20)\n",
    "agregar_productos('sofá', 50, 2)"
   ]
  },
  {
   "cell_type": "code",
   "execution_count": 565,
   "metadata": {},
   "outputs": [
    {
     "data": {
      "text/plain": [
       "[{'nombre': 'mesa', 'precio': 5, 'cantidad': 20},\n",
       " {'nombre': 'sofá', 'precio': 50, 'cantidad': 4},\n",
       " {'nombre': 'silla', 'precio': 3, 'cantidad': 20}]"
      ]
     },
     "execution_count": 565,
     "metadata": {},
     "output_type": "execute_result"
    }
   ],
   "source": [
    "inventario"
   ]
  },
  {
   "cell_type": "code",
   "execution_count": 647,
   "metadata": {},
   "outputs": [],
   "source": [
    "agregar_productos('mesa', 5, 5)"
   ]
  },
  {
   "cell_type": "code",
   "execution_count": 648,
   "metadata": {},
   "outputs": [
    {
     "data": {
      "text/plain": [
       "[{'nombre': 'silla', 'precio': 3, 'cantidad': 20},\n",
       " {'nombre': 'sofá', 'precio': 50, 'cantidad': 2},\n",
       " {'nombre': 'mesa', 'precio': 5, 'cantidad': 5}]"
      ]
     },
     "execution_count": 648,
     "metadata": {},
     "output_type": "execute_result"
    }
   ],
   "source": [
    "inventario"
   ]
  },
  {
   "cell_type": "markdown",
   "metadata": {},
   "source": [
    "2 - 'ver_inventario()': Muestra el inventario de productos con sus detalles.\n",
    "- Utiliza un bucle 'for' para recorrer el inventario.\n",
    "- Imprime los detalles (nombre, precio, cantidad) de cada producto.\n",
    "- Debería verse:\n",
    "Nombre: Camisa, Precio: $20, Cantidad: 50\n",
    "Nombre: Pantalón, Precio: $30, Cantidad: 30\n",
    "Nombre: Zapatos, Precio: $50, Cantidad: 40\n",
    "Nombre: Camisa, Precio: $20, Cantidad: 50"
   ]
  },
  {
   "cell_type": "code",
   "execution_count": 529,
   "metadata": {},
   "outputs": [],
   "source": [
    "# crear la función para ver los producto que tenemos en el inventario:\n",
    "def ver_inventario(inventario):\n",
    "    # iterar el inventario:\n",
    "    for producto in inventario:\n",
    "        print('Nombre:', producto['nombre'], ', Precio:$', producto['precio'], ', Cantidad:', producto['cantidad'])"
   ]
  },
  {
   "cell_type": "code",
   "execution_count": 530,
   "metadata": {},
   "outputs": [
    {
     "name": "stdout",
     "output_type": "stream",
     "text": [
      "Nombre: mesa , Precio:$ 5 , Cantidad: 15\n",
      "Nombre: silla , Precio:$ 3 , Cantidad: 20\n",
      "Nombre: sofá , Precio:$ 50 , Cantidad: 2\n"
     ]
    }
   ],
   "source": [
    "ver_inventario(inventario)"
   ]
  },
  {
   "cell_type": "markdown",
   "metadata": {},
   "source": [
    "3 - 'buscar_producto(nombre)': Busca un producto en el inventario por nombre\n",
    "y muestra sus detalles si se encuentra. Debe recibir el nombre del producto\n",
    "como parámetro.\n",
    "- Utiliza un bucle 'for' para recorrer el inventario.\n",
    "- Compara los nombres de los productos con el nombre proporcionado.\n",
    "- Si se encuentra el producto, imprime sus detalles.\n",
    "- Debe mostrar:\n",
    "Nombre: Camisa, Precio: $20, Cantidad: 40"
   ]
  },
  {
   "cell_type": "code",
   "execution_count": 531,
   "metadata": {},
   "outputs": [],
   "source": [
    "# crear una función para buscar un producto dentro del inventario:\n",
    "def buscar_producto(nombre):\n",
    "    # iterar el inventario:\n",
    "    for producto in inventario:\n",
    "        # comprobar que el producto está en inventario:\n",
    "        if producto['nombre'] == nombre:\n",
    "            # si el producto sí está, imprimir los detalles del producto:\n",
    "            print('Nombre:', producto['nombre'], ', Precio:$', producto['precio'], ', Cantidad:', producto['cantidad'])\n",
    "            return\n",
    "        else:\n",
    "            print('No hay ningún producto', producto['nombre'], 'dentro del inventario')\n",
    "    "
   ]
  },
  {
   "cell_type": "code",
   "execution_count": 532,
   "metadata": {},
   "outputs": [
    {
     "name": "stdout",
     "output_type": "stream",
     "text": [
      "Nombre: mesa , Precio:$ 5 , Cantidad: 15\n"
     ]
    }
   ],
   "source": [
    "buscar_producto('mesa')"
   ]
  },
  {
   "cell_type": "markdown",
   "metadata": {},
   "source": [
    "4 - 'actualizar_stock(nombre, cantidad)': Actualiza el stock de un producto\n",
    "en el inventario. Debe recibir el nombre del producto y la cantidad a\n",
    "agregar o quitar como parámetros.\n",
    "- Utiliza un bucle 'for' para recorrer el inventario.\n",
    "- Busca el producto por nombre.\n",
    "- Actualiza la cantidad según la entrada del usuario.\n",
    "- Si el producto no esta en el inventario muestra un mensaje\n",
    "indicándolo."
   ]
  },
  {
   "cell_type": "code",
   "execution_count": 533,
   "metadata": {},
   "outputs": [],
   "source": [
    "# crear función para actualizar stock de un producto en inventario.\n",
    "# datos que me dan: \n",
    "    # nombre del producto.\n",
    "    # cantidad a sumar o restar.\n",
    "\n",
    "# itinerar con for.\n",
    "# buscar producto por nombre.\n",
    "    # si producto está:    \n",
    "        # actualizar cantidad (sumar o restar).\n",
    "    # si producto no está: mensaje."
   ]
  },
  {
   "cell_type": "code",
   "execution_count": 534,
   "metadata": {},
   "outputs": [
    {
     "data": {
      "text/plain": [
       "[{'nombre': 'mesa', 'precio': 5, 'cantidad': 15},\n",
       " {'nombre': 'silla', 'precio': 3, 'cantidad': 20},\n",
       " {'nombre': 'sofá', 'precio': 50, 'cantidad': 2}]"
      ]
     },
     "execution_count": 534,
     "metadata": {},
     "output_type": "execute_result"
    }
   ],
   "source": [
    "inventario"
   ]
  },
  {
   "cell_type": "code",
   "execution_count": 535,
   "metadata": {},
   "outputs": [],
   "source": [
    "def actualizar_stock(nombre, cantidad):\n",
    "    for producto in inventario:\n",
    "        if producto['nombre'] == nombre:\n",
    "            producto['cantidad'] += cantidad\n",
    "            print('Se ha actualizado la cantidad del producto', producto['nombre'])\n",
    "            return\n",
    "        else:\n",
    "            print('Este producto', producto['nombre'], 'no sé encuentra dentro del inventario')"
   ]
  },
  {
   "cell_type": "code",
   "execution_count": 536,
   "metadata": {},
   "outputs": [
    {
     "name": "stdout",
     "output_type": "stream",
     "text": [
      "Se ha actualizado la cantidad del producto mesa\n"
     ]
    }
   ],
   "source": [
    "actualizar_stock('mesa', 5)"
   ]
  },
  {
   "cell_type": "code",
   "execution_count": 537,
   "metadata": {},
   "outputs": [
    {
     "data": {
      "text/plain": [
       "[{'nombre': 'mesa', 'precio': 5, 'cantidad': 20},\n",
       " {'nombre': 'silla', 'precio': 3, 'cantidad': 20},\n",
       " {'nombre': 'sofá', 'precio': 50, 'cantidad': 2}]"
      ]
     },
     "execution_count": 537,
     "metadata": {},
     "output_type": "execute_result"
    }
   ],
   "source": [
    "inventario"
   ]
  },
  {
   "cell_type": "markdown",
   "metadata": {},
   "source": [
    "5 - 'eliminar_producto(nombre)': Elimina un producto del inventario por\n",
    "nombre. Debe recibir el nombre del producto como parámetro.\n",
    "- Utiliza un bucle 'for' para recorrer el inventario.\n",
    "- Busca el producto por nombre.\n",
    "- Elimina el producto del inventario si existe.\n",
    "- Si el producto no esta en el inventario muestra un mensaje\n",
    "indicándolo."
   ]
  },
  {
   "cell_type": "code",
   "execution_count": 538,
   "metadata": {},
   "outputs": [],
   "source": [
    "# crear una función para eliminar productos del inventario.\n",
    "# parámetro: nombre del producto.\n",
    "\n",
    "# iterar el inventario con for.\n",
    "# buscar el producto por el nombre:\n",
    "    # si existe: eliminar el producto.\n",
    "    # si no existe: mensaje."
   ]
  },
  {
   "cell_type": "code",
   "execution_count": 649,
   "metadata": {},
   "outputs": [
    {
     "data": {
      "text/plain": [
       "[{'nombre': 'silla', 'precio': 3, 'cantidad': 20},\n",
       " {'nombre': 'sofá', 'precio': 50, 'cantidad': 2},\n",
       " {'nombre': 'mesa', 'precio': 5, 'cantidad': 5}]"
      ]
     },
     "execution_count": 649,
     "metadata": {},
     "output_type": "execute_result"
    }
   ],
   "source": [
    "inventario"
   ]
  },
  {
   "cell_type": "code",
   "execution_count": 651,
   "metadata": {},
   "outputs": [],
   "source": [
    "def eliminar_producto(nombre, inventario=inventario):\n",
    "    for producto in inventario:\n",
    "        if producto['nombre'] == nombre:\n",
    "            dicc_eliminar = {}\n",
    "            dicc_eliminar.update(producto)\n",
    "            inventario.remove(dicc_eliminar)\n",
    "            print('Eliminado el producto', producto['nombre'], 'del inventario')\n",
    "            break  \n",
    "        else:\n",
    "            print('no existe')\n",
    "            break"
   ]
  },
  {
   "cell_type": "code",
   "execution_count": 652,
   "metadata": {},
   "outputs": [
    {
     "name": "stdout",
     "output_type": "stream",
     "text": [
      "Eliminado el producto silla del inventario\n"
     ]
    }
   ],
   "source": [
    "eliminar_producto('silla')"
   ]
  },
  {
   "cell_type": "code",
   "execution_count": 653,
   "metadata": {},
   "outputs": [
    {
     "data": {
      "text/plain": [
       "[{'nombre': 'sofá', 'precio': 50, 'cantidad': 2},\n",
       " {'nombre': 'mesa', 'precio': 5, 'cantidad': 5}]"
      ]
     },
     "execution_count": 653,
     "metadata": {},
     "output_type": "execute_result"
    }
   ],
   "source": [
    "inventario"
   ]
  },
  {
   "cell_type": "code",
   "execution_count": 654,
   "metadata": {},
   "outputs": [
    {
     "name": "stdout",
     "output_type": "stream",
     "text": [
      "no existe\n"
     ]
    }
   ],
   "source": [
    "eliminar_producto('tele')"
   ]
  },
  {
   "cell_type": "code",
   "execution_count": 655,
   "metadata": {},
   "outputs": [
    {
     "name": "stdout",
     "output_type": "stream",
     "text": [
      "Eliminado el producto sofá del inventario\n"
     ]
    }
   ],
   "source": [
    "eliminar_producto('sofá')"
   ]
  },
  {
   "cell_type": "code",
   "execution_count": 657,
   "metadata": {},
   "outputs": [
    {
     "name": "stdout",
     "output_type": "stream",
     "text": [
      "Eliminado el producto mesa del inventario\n"
     ]
    }
   ],
   "source": [
    "eliminar_producto('mesa')"
   ]
  },
  {
   "cell_type": "code",
   "execution_count": 658,
   "metadata": {},
   "outputs": [
    {
     "data": {
      "text/plain": [
       "[]"
      ]
     },
     "execution_count": 658,
     "metadata": {},
     "output_type": "execute_result"
    }
   ],
   "source": [
    "inventario"
   ]
  },
  {
   "cell_type": "markdown",
   "metadata": {},
   "source": [
    "6 - 'calcular_valor_inventario()': Calcula y muestra el valor total del\n",
    "inventario.\n",
    "- Utiliza un bucle for para calcular el valor total del inventario.\n",
    "- Itera a través del inventario y suma el valor de cada producto\n",
    "(precio x cantidad). Es decir, calcula el valor total del inventario.\n",
    "Ejemplo:\n",
    "(si tenemos 5 camisas que valen 5 euros\n",
    "y 10 calcetines que valen 1 euro\n",
    "este método te tiene que devolver: 35 euros)\n",
    "valor_camisas = 5 * 5\n",
    "valor_calcetines = 10 * 1\n",
    "valor_camisas + valor_calcetines = 35"
   ]
  },
  {
   "cell_type": "code",
   "execution_count": null,
   "metadata": {},
   "outputs": [],
   "source": [
    "# crear una función que calcule y además imprima el valor total del inventario.\n",
    "# no se necesitan parámetros. Porque se calcula con lo que ya existe en el inventario.\n",
    "\n",
    "# 1 - Usar for para iterar por el inventario.\n",
    "# 2 - Hay que recoger el valor del precio y de la cantidad de cada producto \n",
    "# para poder calcular el valor del producto (precio x cantidad).\n",
    "# 3 - Crear una variable que vaya sumando el valor que vamos sacando de cada producto.\n",
    "# 4 - La función tiene que devolver (imprimir) el valor total de todos los productos del inventario."
   ]
  },
  {
   "cell_type": "code",
   "execution_count": 660,
   "metadata": {},
   "outputs": [
    {
     "data": {
      "text/plain": [
       "[]"
      ]
     },
     "execution_count": 660,
     "metadata": {},
     "output_type": "execute_result"
    }
   ],
   "source": [
    "inventario"
   ]
  },
  {
   "cell_type": "code",
   "execution_count": 661,
   "metadata": {},
   "outputs": [],
   "source": [
    "agregar_productos('mesa', 5, 10)\n",
    "agregar_productos('silla', 3, 20)\n",
    "agregar_productos('sofá', 50, 2)"
   ]
  },
  {
   "cell_type": "code",
   "execution_count": 662,
   "metadata": {},
   "outputs": [
    {
     "data": {
      "text/plain": [
       "[{'nombre': 'mesa', 'precio': 5, 'cantidad': 10},\n",
       " {'nombre': 'silla', 'precio': 3, 'cantidad': 20},\n",
       " {'nombre': 'sofá', 'precio': 50, 'cantidad': 2}]"
      ]
     },
     "execution_count": 662,
     "metadata": {},
     "output_type": "execute_result"
    }
   ],
   "source": [
    "inventario"
   ]
  },
  {
   "cell_type": "code",
   "execution_count": 659,
   "metadata": {},
   "outputs": [],
   "source": [
    "def calcular_valor_inventario():\n",
    "\n",
    "    suma_valores_productos = 0\n",
    "    for producto in inventario:\n",
    "\n",
    "        valor_producto = producto['precio'] * producto['cantidad']\n",
    "        suma_valores_productos += valor_producto\n",
    "    \n",
    "    print('El valor total del inventario es de $', suma_valores_productos)"
   ]
  },
  {
   "cell_type": "code",
   "execution_count": 664,
   "metadata": {},
   "outputs": [
    {
     "name": "stdout",
     "output_type": "stream",
     "text": [
      "El valor total del inventario es de $ 210\n"
     ]
    }
   ],
   "source": [
    "calcular_valor_inventario()"
   ]
  },
  {
   "cell_type": "markdown",
   "metadata": {},
   "source": [
    "7 - 'realizar_compra()': Permite a un cliente realizar una compra\n",
    "seleccionando productos del inventario. Debe interactuar con el cliente para\n",
    "seleccionar productos y calcular el costo total de la compra.\n",
    "- Utiliza un bucle 'while' para permitir al cliente realizar múltiples\n",
    "compras.\n",
    "- Muestra el inventario y solicita al cliente ingresar el nombre del\n",
    "producto que desea comprar.\n",
    "- Registra los productos seleccionados en un carrito y actualiza el\n",
    "inventario.\n",
    "- Calcula el costo total de la compra."
   ]
  },
  {
   "cell_type": "markdown",
   "metadata": {},
   "source": [
    "_A partir de este punto los ejercicios son voluntarios:_"
   ]
  },
  {
   "cell_type": "markdown",
   "metadata": {},
   "source": [
    "8 - 'procesar_pago()': Procesa el pago de una compra, calcula el cambio y\n",
    "muestra un mensaje de confirmación.\n",
    "- Utiliza un bloque 'try...except' para manejar excepciones.\n",
    "- Solicita al cliente ingresar la cantidad total y la cantidad de pago\n",
    "usando un input.\n",
    "- Calcula el cambio y muestra un mensaje de pago exitoso o un error en\n",
    "caso de monto insuficiente."
   ]
  },
  {
   "cell_type": "markdown",
   "metadata": {},
   "source": [
    "9 - 'agregar_cliente(nombre, email)': Agrega un nuevo cliente al registro de\n",
    "clientes. Debe recibir el nombre y el correo electrónico del cliente como\n",
    "parámetros.\n",
    "- Agrega un cliente al diccionario de clientes con su nombre y correo\n",
    "electrónico."
   ]
  },
  {
   "cell_type": "markdown",
   "metadata": {},
   "source": [
    "10 - 'ver_clientes()': Muestra la lista de clientes registrados con sus\n",
    "nombres y correos electrónicos.\n",
    "- Utiliza un bucle 'for' para recorrer la base de datos de clientes.\n",
    "- Imprime los detalles de cada cliente (nombre y correo electrónico)."
   ]
  },
  {
   "cell_type": "markdown",
   "metadata": {},
   "source": [
    "11 - 'registrar_compra(nombre_cliente, carrito)': Registra una compra para\n",
    "un cliente, actualiza las ventas totales y agrega la compra al historial del\n",
    "cliente. Debe recibir el nombre del cliente y el carrito de compras como\n",
    "parámetros.\n",
    "- Busca al cliente en el diccionario de clientes.\n",
    "- Si el cliente no esta en el diccionario de clientes, muestra que no\n",
    "se puede realizar la acción por que el cliente no está en el diccionario.\n",
    "- Calcula el total de la compra y registra la compra, incluyendo los\n",
    "productos y el total.\n",
    "- Ejemplo:\n",
    "carrito_cliente1 = {\"Camisa\": {\"precio\": 20, \"cantidad\": 3}}\n",
    "tienda.registrar_compra(\"Cliente1\", carrito_cliente1)"
   ]
  },
  {
   "cell_type": "markdown",
   "metadata": {},
   "source": [
    "12 - 'ver_compras_cliente(nombre_cliente)': Muestra el historial de compras\n",
    "de un cliente. Debe recibir el nombre del cliente como parámetro.\n",
    "- Busca al cliente en el diccionario de clientes.\n",
    "- Muestra las compras realizadas por el cliente, incluyendo detalles de\n",
    "productos y totales."
   ]
  },
  {
   "cell_type": "markdown",
   "metadata": {},
   "source": [
    "13 - 'calcular_ventas_totales()': Muestra las ventas totales de la tienda.\n",
    "- Suma los totales de todas las compras realizadas y muestra el total\n",
    "de ventas totales en la tienda."
   ]
  },
  {
   "cell_type": "markdown",
   "metadata": {},
   "source": [
    "_Instrucciones:_"
   ]
  },
  {
   "cell_type": "markdown",
   "metadata": {},
   "source": [
    "-   Antes de empezar, hay que crear un nuevo repositorio desde GitHub Classroom usando este enlace.\n",
    "Una vez creado, hay que clonar en nuestro ordenador y en la carpeta creada empezaremos a trabajar\n",
    "en el ejercicio.\n",
    "\n",
    "-   Esta evaluación consta de una serie de preguntas que evalúan tu comprensión y habilidades en relación\n",
    "con funciones, bucles y otros conceptos estudiados en el módulo 1.\n",
    "\n",
    "-   Puedes usar recursos externos, incluyendo internet y materiales de referencia o tus propias notas.\n",
    "\n",
    "-   Completa los ejercicios en un jupyter notebook."
   ]
  },
  {
   "cell_type": "markdown",
   "metadata": {},
   "source": [
    "_Instrucciones Adicionales:\n",
    "Debes crear llamadas a las funciones para demostrar que funcionan correctamente._"
   ]
  },
  {
   "cell_type": "markdown",
   "metadata": {},
   "source": [
    "-   Python Básico:\n",
    "    -   Condicionales (if, elif, else).\n",
    "    -   Bucles (for y while). Importante entender cómo iterar por una lista, o un diccionario.\n",
    "    -   Funciones (creación de funciones con parámetros, parámetros por defecto).\n",
    "    -   Diferencias entre los distintos tipos de datos en python (strings, listas, tuplas, sets y diccionarios).\n",
    "\n",
    "-   Otros criterios a tener en cuenta:\n",
    "    -   Usar inglés para nombres de variables, funciones, clases, mensajes de commit, nombres de ficheros.\n",
    "    -   El repositorio de GitHub debe tener README explicando muy brevemente cómo arrancar el proyecto."
   ]
  }
 ],
 "metadata": {
  "kernelspec": {
   "display_name": "base",
   "language": "python",
   "name": "python3"
  },
  "language_info": {
   "codemirror_mode": {
    "name": "ipython",
    "version": 3
   },
   "file_extension": ".py",
   "mimetype": "text/x-python",
   "name": "python",
   "nbconvert_exporter": "python",
   "pygments_lexer": "ipython3",
   "version": "3.12.4"
  }
 },
 "nbformat": 4,
 "nbformat_minor": 2
}
