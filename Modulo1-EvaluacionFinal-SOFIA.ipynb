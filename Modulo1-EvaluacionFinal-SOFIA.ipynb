{
 "cells": [
  {
   "cell_type": "markdown",
   "metadata": {},
   "source": [
    "# MODULO 1 - EVALUACION FINAL - SOFIA"
   ]
  },
  {
   "cell_type": "markdown",
   "metadata": {},
   "source": [
    "_Vamos a tener tres estructuras principales con las que vamos a trabajar:_"
   ]
  },
  {
   "cell_type": "markdown",
   "metadata": {},
   "source": [
    "1 - 'inventario' (lista de diccionarios): Una estructura para almacenar los\n",
    "productos en el inventario. Cada producto debe ser representado como un\n",
    "diccionario con las siguientes claves: 'nombre', 'precio' y 'cantidad'. Al principio deberá ser una lista vacía.\n",
    "Ejemplo de como debería ser:\n",
    "[{'nombre': 'Camisa', 'precio': 20, 'cantidad': 40},\n",
    "{'nombre': 'Pantalón', 'precio': 30, 'cantidad': 30}]"
   ]
  },
  {
   "cell_type": "code",
   "execution_count": 1,
   "metadata": {},
   "outputs": [],
   "source": [
    "# 1 - Crear una estructura llamada inventario que sea una lista de diccionarios.\n",
    "# Los diccionarios serán asi:\n",
    "# {'nombre': nombre, 'precio': precio, 'cantidad': cantidad}"
   ]
  },
  {
   "cell_type": "code",
   "execution_count": 2,
   "metadata": {},
   "outputs": [],
   "source": [
    "inventario = []"
   ]
  },
  {
   "cell_type": "markdown",
   "metadata": {},
   "source": [
    "2 - 'clientes' (diccionario): Una estructura para llevar un registro de los\n",
    "clientes de la tienda. Cada cliente debe ser representado como un\n",
    "diccionario con las siguientes claves: 'nombre' y 'email'. Al inicio\n",
    "deberá ser un diccionario vacío. Además, cada cliente debe tener un\n",
    "historial de compras. \n",
    "Deberá parecerse a:\n",
    "{'Cliente1': {'email': 'cliente1@email.com', 'compras': []},\n",
    "'Cliente2': {'email': 'cliente2@email.com', 'compras': []}}"
   ]
  },
  {
   "cell_type": "code",
   "execution_count": 207,
   "metadata": {},
   "outputs": [],
   "source": [
    "# 1 - Crear un diccionario con los datos del cliente.\n",
    "# Los datos del cliente tienen que aparecer así:\n",
    "# clientes = {'nombre': nombre, 'email': email}\n",
    "# Los datos del historial del cliente serán así:\n",
    "# historial = {'cliente': {'email: email, 'compras': []}}"
   ]
  },
  {
   "cell_type": "code",
   "execution_count": 3,
   "metadata": {},
   "outputs": [],
   "source": [
    "clientes = {}"
   ]
  },
  {
   "cell_type": "markdown",
   "metadata": {},
   "source": [
    "3 - 'ventas_totales' (float): Una variable para llevar un registro de las\n",
    "ventas totales de la tienda. Inicializalo con valor 0."
   ]
  },
  {
   "cell_type": "code",
   "execution_count": 209,
   "metadata": {},
   "outputs": [],
   "source": [
    "# 1 - Crear una variable float con las ventas totales:"
   ]
  },
  {
   "cell_type": "code",
   "execution_count": 4,
   "metadata": {},
   "outputs": [],
   "source": [
    "ventas_totales = float(0)"
   ]
  },
  {
   "cell_type": "code",
   "execution_count": 5,
   "metadata": {},
   "outputs": [
    {
     "data": {
      "text/plain": [
       "0.0"
      ]
     },
     "execution_count": 5,
     "metadata": {},
     "output_type": "execute_result"
    }
   ],
   "source": [
    "ventas_totales"
   ]
  },
  {
   "cell_type": "markdown",
   "metadata": {},
   "source": [
    "_A lo largo de esta evaluación tendrás que crear una serie de funciones que cumplan con los siguientes\n",
    "requisitos:_"
   ]
  },
  {
   "cell_type": "markdown",
   "metadata": {},
   "source": [
    "1 - 'agregar_producto(nombre, precio, cantidad)': Esta función agrega un\n",
    "producto al inventario o actualiza su cantidad si ya existe. Debe recibir el\n",
    "nombre, precio y cantidad del producto como parámetros.\n",
    "- Itera a través del inventario y compara los nombres de los productos\n",
    "con el nombre proporcionado.\n",
    "- Si el producto ya existe, actualiza la cantidad.\n",
    "- Si no existe, agrega un nuevo producto al inventario."
   ]
  },
  {
   "cell_type": "code",
   "execution_count": 212,
   "metadata": {},
   "outputs": [],
   "source": [
    "# 1 - Crear una función para agregar productos.\n",
    "# Parámetros: nombre, precio, cantidad.\n",
    "# 2 - Iterar con for por el inventario.\n",
    "# 3 - Comprobar si el producto ya existe:\n",
    "    # 3.a - Si existe, hay que actualizar la cantidad del producto en el inventario.\n",
    "    # 3.b - Si no existe, añadir este producto al inventario."
   ]
  },
  {
   "cell_type": "code",
   "execution_count": 3,
   "metadata": {},
   "outputs": [],
   "source": [
    "def agregar_productos(nombre, precio, cantidad, inventario=inventario):\n",
    "    for producto in inventario:\n",
    "        if producto['nombre'] == nombre:\n",
    "            print('El producto', nombre, 'ya existe. Vamos a actualizar su cantidad')\n",
    "            producto['cantidad'] += cantidad\n",
    "            return\n",
    "    nuevo_producto = {'nombre': nombre, 'precio': precio, 'cantidad': cantidad}\n",
    "    inventario.append(nuevo_producto)\n"
   ]
  },
  {
   "cell_type": "code",
   "execution_count": 7,
   "metadata": {},
   "outputs": [
    {
     "data": {
      "text/plain": [
       "[]"
      ]
     },
     "execution_count": 7,
     "metadata": {},
     "output_type": "execute_result"
    }
   ],
   "source": [
    "inventario"
   ]
  },
  {
   "cell_type": "code",
   "execution_count": 4,
   "metadata": {},
   "outputs": [
    {
     "data": {
      "text/plain": [
       "[{'nombre': 'mesa', 'precio': 5, 'cantidad': 10},\n",
       " {'nombre': 'silla', 'precio': 3, 'cantidad': 20},\n",
       " {'nombre': 'espejo', 'precio': 50, 'cantidad': 30}]"
      ]
     },
     "execution_count": 4,
     "metadata": {},
     "output_type": "execute_result"
    }
   ],
   "source": [
    "agregar_productos('mesa', 5, 10)\n",
    "agregar_productos('silla', 3, 20)\n",
    "agregar_productos('espejo', 50, 30)\n",
    "inventario"
   ]
  },
  {
   "cell_type": "code",
   "execution_count": 102,
   "metadata": {},
   "outputs": [
    {
     "name": "stdout",
     "output_type": "stream",
     "text": [
      "El producto mesa ya existe. Vamos a actualizar su cantidad\n"
     ]
    },
    {
     "data": {
      "text/plain": [
       "[{'nombre': 'mesa', 'precio': 5, 'cantidad': 15},\n",
       " {'nombre': 'silla', 'precio': 3, 'cantidad': 20},\n",
       " {'nombre': 'espejo', 'precio': 50, 'cantidad': 30}]"
      ]
     },
     "execution_count": 102,
     "metadata": {},
     "output_type": "execute_result"
    }
   ],
   "source": [
    "agregar_productos('mesa', 5, 5)\n",
    "inventario"
   ]
  },
  {
   "cell_type": "markdown",
   "metadata": {},
   "source": [
    "2 - 'ver_inventario()': Muestra el inventario de productos con sus detalles.\n",
    "- Utiliza un bucle 'for' para recorrer el inventario.\n",
    "- Imprime los detalles (nombre, precio, cantidad) de cada producto.\n",
    "- Debería verse:\n",
    "Nombre: Camisa, Precio: $20, Cantidad: 50\n",
    "Nombre: Pantalón, Precio: $30, Cantidad: 30\n",
    "Nombre: Zapatos, Precio: $50, Cantidad: 40\n",
    "Nombre: Camisa, Precio: $20, Cantidad: 50"
   ]
  },
  {
   "cell_type": "code",
   "execution_count": 103,
   "metadata": {},
   "outputs": [],
   "source": [
    "# 1 - Crear una función para ver el inventario.\n",
    "# 2 - Iterar por el inventario con for.\n",
    "# 3 - Imprimir los productos con sus detalles."
   ]
  },
  {
   "cell_type": "code",
   "execution_count": 104,
   "metadata": {},
   "outputs": [],
   "source": [
    "def ver_inventario(inventario):\n",
    "    for producto in inventario:\n",
    "        print('Nombre:', producto['nombre'], ', Precio:$', producto['precio'], ', Cantidad:', producto['cantidad'])"
   ]
  },
  {
   "cell_type": "code",
   "execution_count": 105,
   "metadata": {},
   "outputs": [
    {
     "name": "stdout",
     "output_type": "stream",
     "text": [
      "Nombre: mesa , Precio:$ 5 , Cantidad: 15\n",
      "Nombre: silla , Precio:$ 3 , Cantidad: 20\n",
      "Nombre: espejo , Precio:$ 50 , Cantidad: 30\n"
     ]
    }
   ],
   "source": [
    "ver_inventario(inventario)"
   ]
  },
  {
   "cell_type": "markdown",
   "metadata": {},
   "source": [
    "3 - 'buscar_producto(nombre)': Busca un producto en el inventario por nombre\n",
    "y muestra sus detalles si se encuentra. Debe recibir el nombre del producto\n",
    "como parámetro.\n",
    "- Utiliza un bucle 'for' para recorrer el inventario.\n",
    "- Compara los nombres de los productos con el nombre proporcionado.\n",
    "- Si se encuentra el producto, imprime sus detalles.\n",
    "- Debe mostrar:\n",
    "Nombre: Camisa, Precio: $20, Cantidad: 40"
   ]
  },
  {
   "cell_type": "code",
   "execution_count": 106,
   "metadata": {},
   "outputs": [],
   "source": [
    "# 1 - Crear una función para buscar un producto por el nombre en el inventario.\n",
    "# 2 - Iterar el inventario con for.\n",
    "# 3 - Comprobar que el producto existe en el inventario:\n",
    "    # 3.a - Si existe, imprimir los detaller del producto.\n",
    "    # 3.b - Si no existe, mensaje."
   ]
  },
  {
   "cell_type": "code",
   "execution_count": 107,
   "metadata": {},
   "outputs": [],
   "source": [
    "def buscar_producto(nombre):\n",
    "    for producto in inventario:\n",
    "        if producto['nombre'] == nombre:\n",
    "            print('Nombre:', producto['nombre'], ', Precio:$', producto['precio'], ', Cantidad:', producto['cantidad'])\n",
    "            break\n",
    "        else:\n",
    "            print('No hay ningún producto', nombre, 'dentro del inventario')\n",
    "            break\n",
    "    "
   ]
  },
  {
   "cell_type": "code",
   "execution_count": 108,
   "metadata": {},
   "outputs": [
    {
     "name": "stdout",
     "output_type": "stream",
     "text": [
      "Nombre: mesa , Precio:$ 5 , Cantidad: 15\n"
     ]
    }
   ],
   "source": [
    "buscar_producto('mesa')"
   ]
  },
  {
   "cell_type": "code",
   "execution_count": 109,
   "metadata": {},
   "outputs": [
    {
     "name": "stdout",
     "output_type": "stream",
     "text": [
      "No hay ningún producto tele dentro del inventario\n"
     ]
    }
   ],
   "source": [
    "buscar_producto('tele')"
   ]
  },
  {
   "cell_type": "markdown",
   "metadata": {},
   "source": [
    "4 - 'actualizar_stock(nombre, cantidad)': Actualiza el stock de un producto\n",
    "en el inventario. Debe recibir el nombre del producto y la cantidad a\n",
    "agregar o quitar como parámetros.\n",
    "- Utiliza un bucle 'for' para recorrer el inventario.\n",
    "- Busca el producto por nombre.\n",
    "- Actualiza la cantidad según la entrada del usuario.\n",
    "- Si el producto no esta en el inventario muestra un mensaje\n",
    "indicándolo."
   ]
  },
  {
   "cell_type": "code",
   "execution_count": 110,
   "metadata": {},
   "outputs": [],
   "source": [
    "# 1 - Crear una función para actualizar stock de un producto en el inventario.\n",
    "# Datos que me dan: \n",
    "    # nombre del producto.\n",
    "    # cantidad a sumar o restar.\n",
    "\n",
    "# 2 - Itinerar por el inventario con for.\n",
    "# 3 - Buscar si existe el producto por nombre:\n",
    "    # 3.a - Si el producto está, actualizar cantidad (sumar o restar).\n",
    "    # 3.b - Si el producto no está, mensaje."
   ]
  },
  {
   "cell_type": "code",
   "execution_count": 111,
   "metadata": {},
   "outputs": [],
   "source": [
    "def actualizar_stock(nombre, cantidad):\n",
    "    for producto in inventario:\n",
    "        if producto['nombre'] == nombre:\n",
    "            producto['cantidad'] += cantidad\n",
    "            print('Se ha actualizado la cantidad del producto', producto['nombre'])\n",
    "            return\n",
    "        else:\n",
    "            print('Este producto', nombre, 'no sé encuentra dentro del inventario')\n",
    "            break"
   ]
  },
  {
   "cell_type": "code",
   "execution_count": 112,
   "metadata": {},
   "outputs": [
    {
     "data": {
      "text/plain": [
       "[{'nombre': 'mesa', 'precio': 5, 'cantidad': 15},\n",
       " {'nombre': 'silla', 'precio': 3, 'cantidad': 20},\n",
       " {'nombre': 'espejo', 'precio': 50, 'cantidad': 30}]"
      ]
     },
     "execution_count": 112,
     "metadata": {},
     "output_type": "execute_result"
    }
   ],
   "source": [
    "inventario"
   ]
  },
  {
   "cell_type": "code",
   "execution_count": 113,
   "metadata": {},
   "outputs": [
    {
     "name": "stdout",
     "output_type": "stream",
     "text": [
      "Se ha actualizado la cantidad del producto mesa\n"
     ]
    },
    {
     "data": {
      "text/plain": [
       "[{'nombre': 'mesa', 'precio': 5, 'cantidad': 20},\n",
       " {'nombre': 'silla', 'precio': 3, 'cantidad': 20},\n",
       " {'nombre': 'espejo', 'precio': 50, 'cantidad': 30}]"
      ]
     },
     "execution_count": 113,
     "metadata": {},
     "output_type": "execute_result"
    }
   ],
   "source": [
    "actualizar_stock('mesa', 5)\n",
    "inventario"
   ]
  },
  {
   "cell_type": "code",
   "execution_count": 114,
   "metadata": {},
   "outputs": [
    {
     "name": "stdout",
     "output_type": "stream",
     "text": [
      "Este producto cama no sé encuentra dentro del inventario\n"
     ]
    },
    {
     "data": {
      "text/plain": [
       "[{'nombre': 'mesa', 'precio': 5, 'cantidad': 20},\n",
       " {'nombre': 'silla', 'precio': 3, 'cantidad': 20},\n",
       " {'nombre': 'espejo', 'precio': 50, 'cantidad': 30}]"
      ]
     },
     "execution_count": 114,
     "metadata": {},
     "output_type": "execute_result"
    }
   ],
   "source": [
    "actualizar_stock('cama', 1)\n",
    "inventario"
   ]
  },
  {
   "cell_type": "markdown",
   "metadata": {},
   "source": [
    "5 - 'eliminar_producto(nombre)': Elimina un producto del inventario por\n",
    "nombre. Debe recibir el nombre del producto como parámetro.\n",
    "- Utiliza un bucle 'for' para recorrer el inventario.\n",
    "- Busca el producto por nombre.\n",
    "- Elimina el producto del inventario si existe.\n",
    "- Si el producto no esta en el inventario muestra un mensaje\n",
    "indicándolo."
   ]
  },
  {
   "cell_type": "code",
   "execution_count": 115,
   "metadata": {},
   "outputs": [],
   "source": [
    "# 1 - Crear una función para eliminar productos del inventario.\n",
    "# Parámetro: nombre del producto.\n",
    "\n",
    "# 2 - Iterar el inventario con for.\n",
    "# 3 - Buscar el producto por el nombre:\n",
    "    # 3.a - Si existe, eliminar el producto.\n",
    "    # 3.b - Si no existe, mensaje."
   ]
  },
  {
   "cell_type": "code",
   "execution_count": 116,
   "metadata": {},
   "outputs": [],
   "source": [
    "def eliminar_producto(nombre, inventario=inventario):\n",
    "    for producto in inventario:\n",
    "        if producto['nombre'] == nombre:\n",
    "            inventario.remove(producto)\n",
    "            print('Eliminado el producto', producto['nombre'], 'del inventario')\n",
    "            break  \n",
    "        else:\n",
    "            print('No existe este producto en el inventario')\n",
    "            break"
   ]
  },
  {
   "cell_type": "code",
   "execution_count": 117,
   "metadata": {},
   "outputs": [
    {
     "data": {
      "text/plain": [
       "[{'nombre': 'mesa', 'precio': 5, 'cantidad': 20},\n",
       " {'nombre': 'silla', 'precio': 3, 'cantidad': 20},\n",
       " {'nombre': 'espejo', 'precio': 50, 'cantidad': 30}]"
      ]
     },
     "execution_count": 117,
     "metadata": {},
     "output_type": "execute_result"
    }
   ],
   "source": [
    "inventario"
   ]
  },
  {
   "cell_type": "code",
   "execution_count": 118,
   "metadata": {},
   "outputs": [
    {
     "name": "stdout",
     "output_type": "stream",
     "text": [
      "Eliminado el producto mesa del inventario\n"
     ]
    },
    {
     "data": {
      "text/plain": [
       "[{'nombre': 'silla', 'precio': 3, 'cantidad': 20},\n",
       " {'nombre': 'espejo', 'precio': 50, 'cantidad': 30}]"
      ]
     },
     "execution_count": 118,
     "metadata": {},
     "output_type": "execute_result"
    }
   ],
   "source": [
    "eliminar_producto('mesa')\n",
    "inventario"
   ]
  },
  {
   "cell_type": "code",
   "execution_count": 119,
   "metadata": {},
   "outputs": [
    {
     "name": "stdout",
     "output_type": "stream",
     "text": [
      "No existe este producto en el inventario\n"
     ]
    }
   ],
   "source": [
    "eliminar_producto('tele')"
   ]
  },
  {
   "cell_type": "markdown",
   "metadata": {},
   "source": [
    "6 - 'calcular_valor_inventario()': Calcula y muestra el valor total del\n",
    "inventario.\n",
    "- Utiliza un bucle for para calcular el valor total del inventario.\n",
    "- Itera a través del inventario y suma el valor de cada producto\n",
    "(precio x cantidad). Es decir, calcula el valor total del inventario.\n",
    "Ejemplo:\n",
    "(si tenemos 5 camisas que valen 5 euros\n",
    "y 10 calcetines que valen 1 euro\n",
    "este método te tiene que devolver: 35 euros)\n",
    "valor_camisas = 5 * 5\n",
    "valor_calcetines = 10 * 1\n",
    "valor_camisas + valor_calcetines = 35"
   ]
  },
  {
   "cell_type": "code",
   "execution_count": 120,
   "metadata": {},
   "outputs": [],
   "source": [
    "# 1 - Crear una función que calcule y además imprima el valor total del inventario.\n",
    "# Parámetros: no se necesitan porque se calcula con lo que ya existe en el inventario.\n",
    "# 2 - Usar for para iterar por el inventario.\n",
    "# 3 - Hay que recoger el valor del precio y de la cantidad de cada producto \n",
    "# para poder calcular el valor del producto (precio x cantidad).\n",
    "# 4 - Crear una variable que vaya sumando el valor que vamos sacando de cada producto.\n",
    "# 5 - La función tiene que devolver (imprimir) el valor total de todos los productos del inventario."
   ]
  },
  {
   "cell_type": "code",
   "execution_count": 121,
   "metadata": {},
   "outputs": [],
   "source": [
    "def calcular_valor_inventario():\n",
    "    suma_valores_productos = 0\n",
    "    for producto in inventario:\n",
    "        valor_producto = producto['precio'] * producto['cantidad']\n",
    "        print('El valor de', producto['nombre'], 'es', producto['precio'], '*', producto['cantidad'],'=', valor_producto)\n",
    "        suma_valores_productos += valor_producto\n",
    "    print('El valor total del inventario es de $', suma_valores_productos)"
   ]
  },
  {
   "cell_type": "code",
   "execution_count": 122,
   "metadata": {},
   "outputs": [
    {
     "name": "stdout",
     "output_type": "stream",
     "text": [
      "El producto silla ya existe. Vamos a actualizar su cantidad\n"
     ]
    },
    {
     "data": {
      "text/plain": [
       "[{'nombre': 'silla', 'precio': 3, 'cantidad': 40},\n",
       " {'nombre': 'espejo', 'precio': 50, 'cantidad': 30},\n",
       " {'nombre': 'reloj', 'precio': 4, 'cantidad': 30},\n",
       " {'nombre': 'caja', 'precio': 20, 'cantidad': 2}]"
      ]
     },
     "execution_count": 122,
     "metadata": {},
     "output_type": "execute_result"
    }
   ],
   "source": [
    "agregar_productos('reloj', 4, 30)\n",
    "agregar_productos('silla', 3, 20)\n",
    "agregar_productos('caja', 20, 2)\n",
    "inventario"
   ]
  },
  {
   "cell_type": "code",
   "execution_count": 123,
   "metadata": {},
   "outputs": [
    {
     "name": "stdout",
     "output_type": "stream",
     "text": [
      "El valor de silla es 3 * 40 = 120\n",
      "El valor de espejo es 50 * 30 = 1500\n",
      "El valor de reloj es 4 * 30 = 120\n",
      "El valor de caja es 20 * 2 = 40\n",
      "El valor total del inventario es de $ 1780\n"
     ]
    }
   ],
   "source": [
    "calcular_valor_inventario()"
   ]
  },
  {
   "cell_type": "markdown",
   "metadata": {},
   "source": [
    "7 - 'realizar_compra()': Permite a un cliente realizar una compra\n",
    "seleccionando productos del inventario. Debe interactuar con el cliente para\n",
    "seleccionar productos y calcular el costo total de la compra.\n",
    "- Utiliza un bucle 'while' para permitir al cliente realizar múltiples\n",
    "compras.\n",
    "- Muestra el inventario y solicita al cliente ingresar el nombre del\n",
    "producto que desea comprar.\n",
    "- Registra los productos seleccionados en un carrito y actualiza el\n",
    "inventario.\n",
    "- Calcula el costo total de la compra."
   ]
  },
  {
   "cell_type": "code",
   "execution_count": 124,
   "metadata": {},
   "outputs": [],
   "source": [
    "# Crear una función para que el cliente realice una compra de productos del inventario.\n",
    "# El cliente debe indicarnos los productos que quiere comprar. \n",
    "# Hay que calcular el precio total de la compra.\n",
    "# 1 - Usar while para que el cliente siga comprando, hasta que indique que no quiere más.\n",
    "# 2 - Hay que imprimir el inventario para que el cliente decida qué quiere comprar.\n",
    "# 3 - Pedir al cliente (input) que escriba el nombre del producto que quiere comprar.\n",
    "# (entiendo del ejercicio que damos por hecho que sólo compra una unidad de cada producto).\n",
    "# 4 - Crear una lista con los productos seleccionados (carrito)\n",
    "# 5 - Actualizar el inventario con las cantidades vendidas.\n",
    "# 6 - Imprimir el carrito.\n",
    "# 7 - Calcular el precio total de la compra.   \n",
    "# 8 - Indicar (imprimir) al cliente el precio total de la compra."
   ]
  },
  {
   "cell_type": "code",
   "execution_count": 125,
   "metadata": {},
   "outputs": [],
   "source": [
    "def realizar_compra(inventario=inventario):\n",
    "    opcion = True\n",
    "    carrito = []\n",
    "    valor_compra_total = 0\n",
    "    while opcion:\n",
    "        print('Los productos que tenemos en nuestro inventario son los siguientes:')\n",
    "        for producto in inventario:\n",
    "            print(f'Nombre: {producto['nombre']} Precio: ${producto['precio']} Cantidad: {producto['cantidad']}')\n",
    "        producto_elegido = input('Escribe el nombre del producto que deseas comprar, por favor').lower()\n",
    "        print(f'El producto que has seleccionado es: {producto_elegido}.')\n",
    "        for producto in inventario:\n",
    "            if producto_elegido == producto['nombre']:\n",
    "                carrito.append(producto)\n",
    "                print(f'Ahora tu Carrito de compra tiene lo siguiente:{carrito}')\n",
    "                valor_compra_total += producto['precio']\n",
    "                print(f'El valor actual de tu compra es de: ${valor_compra_total}.')\n",
    "                producto['cantidad'] -= 1\n",
    "                print(f'Se ha actualizado la cantidad del producto {producto['nombre']} en el inventario a {producto['cantidad']} unidades.')\n",
    "        seleccionar_opcion = input('¿Quieres seguir comprando? (Escribe \"S\" si quieres seguir comprando)').lower()\n",
    "        if  seleccionar_opcion == 's':\n",
    "            continue\n",
    "        else:\n",
    "            print('Tu CARRITO DE COMPRA FINAL tiene los siguientes productos:')\n",
    "            for producto in carrito:\n",
    "                print(f'Nombre: {producto['nombre']} Precio: ${producto['precio']}')\n",
    "            print(f'El PRECIO TOTAL de tu compra es de: ${valor_compra_total}.')\n",
    "            return \n",
    "        \n",
    "        \n",
    "            \n"
   ]
  },
  {
   "cell_type": "code",
   "execution_count": 126,
   "metadata": {},
   "outputs": [
    {
     "name": "stdout",
     "output_type": "stream",
     "text": [
      "Los productos que tenemos en nuestro inventario son los siguientes:\n",
      "Nombre: silla Precio: $3 Cantidad: 40\n",
      "Nombre: espejo Precio: $50 Cantidad: 30\n",
      "Nombre: reloj Precio: $4 Cantidad: 30\n",
      "Nombre: caja Precio: $20 Cantidad: 2\n",
      "El producto que has seleccionado es: silla.\n",
      "Ahora tu Carrito de compra tiene lo siguiente:[{'nombre': 'silla', 'precio': 3, 'cantidad': 40}]\n",
      "El valor actual de tu compra es de: $3.\n",
      "Se ha actualizado la cantidad del producto silla en el inventario a 39 unidades.\n",
      "Tu CARRITO DE COMPRA FINAL tiene los siguientes productos:\n",
      "Nombre: silla Precio: $3\n",
      "El PRECIO TOTAL de tu compra es de: $3.\n"
     ]
    }
   ],
   "source": [
    "realizar_compra()"
   ]
  },
  {
   "cell_type": "markdown",
   "metadata": {},
   "source": [
    "_A partir de este punto los ejercicios son voluntarios:_"
   ]
  },
  {
   "cell_type": "markdown",
   "metadata": {},
   "source": [
    "8 - 'procesar_pago()': Procesa el pago de una compra, calcula el cambio y\n",
    "muestra un mensaje de confirmación.\n",
    "- Utiliza un bloque 'try...except' para manejar excepciones.\n",
    "- Solicita al cliente ingresar la cantidad total y la cantidad de pago\n",
    "usando un input.\n",
    "- Calcula el cambio y muestra un mensaje de pago exitoso o un error en\n",
    "caso de monto insuficiente."
   ]
  },
  {
   "cell_type": "code",
   "execution_count": 127,
   "metadata": {},
   "outputs": [],
   "source": [
    "# 1 - Crear una función para procesar el pago de la compra.\n",
    "# - También hay que calcular el cambio y mostrar mensaje de confirmación.\n",
    "# 2 - Usar try para las excepciones.\n",
    "# 3 - El cliente ingresa (input) la cantidad total de la compra.\n",
    "# 4 - El cliente ingresa (input) la cantidad de pago.\n",
    "# 5 - Hay que calcular el cambio.\n",
    "# 6 - Según el cambio que resulte:\n",
    "    # 6.a - Mostrar mensaje de pago exitoso.\n",
    "    # 6.b - Mostar mensaje de error por monto insuficiente."
   ]
  },
  {
   "cell_type": "code",
   "execution_count": 128,
   "metadata": {},
   "outputs": [],
   "source": [
    "def procesar_pago():\n",
    "    try:\n",
    "        precio_compra = float(input('Por favor, indícanos cuál es el precio total de su compra'))\n",
    "        print(f'El precio de compra introducido por usted es ${precio_compra}.')\n",
    "        cantidad_pago_cliente = float(input('Introduce la cantidad de dinero que va a pagar por su compra'))\n",
    "        print(f'La cantidad de pago introducida por usted es ${cantidad_pago_cliente}.')\n",
    "    except ValueError:\n",
    "        print('El valor introducido es érroneo. Vuelva a intentar procesar el pago. Gracias.')\n",
    "    else:\n",
    "        if (precio_compra < 0) or (cantidad_pago_cliente < 0):\n",
    "            print('El valor introducido es érroneo. Vuelva a intentar procesar el pago. Gracias.')\n",
    "            return\n",
    "        else:\n",
    "            cambio_al_cliente = float(cantidad_pago_cliente - precio_compra)\n",
    "            #print('EL CALCULO DEL CAMBIO', cambio_al_cliente)\n",
    "            if cambio_al_cliente >= 0:\n",
    "                print(f'El cambio de tu pago es de ${cambio_al_cliente}.')\n",
    "                print('El pago ha sido exitoso. Gracias por su compra')\n",
    "            else:\n",
    "                print('La cantidad introducida para realizar el pago de su compra es insuficiente.')\n",
    "                print('Lo sentimos, pero no puede realizar la compra. Gracias por su visita.')\n",
    "    "
   ]
  },
  {
   "cell_type": "code",
   "execution_count": 129,
   "metadata": {},
   "outputs": [
    {
     "name": "stdout",
     "output_type": "stream",
     "text": [
      "El precio de compra introducido por usted es $3.0.\n",
      "La cantidad de pago introducida por usted es $5.0.\n",
      "El cambio de tu pago es de $2.0.\n",
      "El pago ha sido exitoso. Gracias por su compra\n"
     ]
    }
   ],
   "source": [
    "procesar_pago()"
   ]
  },
  {
   "cell_type": "markdown",
   "metadata": {},
   "source": [
    "9 - 'agregar_cliente(nombre, email)': Agrega un nuevo cliente al registro de\n",
    "clientes. Debe recibir el nombre y el correo electrónico del cliente como\n",
    "parámetros.\n",
    "- Agrega un cliente al diccionario de clientes con su nombre y correo\n",
    "electrónico."
   ]
  },
  {
   "cell_type": "code",
   "execution_count": 130,
   "metadata": {},
   "outputs": [],
   "source": [
    "# 1 - Crear una función para agregar un nuevo cliente en el registro de clientes.\n",
    "# Parámetros: nombre y email del cliente.\n",
    "# 2 - Agregar un nuevo cliente (diccionario: {'nombre': nombre, 'email': email})\n",
    "# a la lista de diccionarios 'clientes'."
   ]
  },
  {
   "cell_type": "code",
   "execution_count": 21,
   "metadata": {},
   "outputs": [],
   "source": [
    "clientes = []"
   ]
  },
  {
   "cell_type": "code",
   "execution_count": 22,
   "metadata": {},
   "outputs": [],
   "source": [
    "def agregar_cliente(nombre, email, clientes=clientes):\n",
    "    for cliente in clientes:\n",
    "        if cliente['nombre'] == nombre:\n",
    "            print(f'El cliente {nombre} ya existe en la base de datos')\n",
    "            return\n",
    "    nuevo_cliente = {'nombre': nombre, 'email': email}\n",
    "    clientes.append(nuevo_cliente)"
   ]
  },
  {
   "cell_type": "code",
   "execution_count": 23,
   "metadata": {},
   "outputs": [
    {
     "data": {
      "text/plain": [
       "[]"
      ]
     },
     "execution_count": 23,
     "metadata": {},
     "output_type": "execute_result"
    }
   ],
   "source": [
    "clientes"
   ]
  },
  {
   "cell_type": "code",
   "execution_count": 24,
   "metadata": {},
   "outputs": [
    {
     "data": {
      "text/plain": [
       "[{'nombre': 'Marta', 'email': 'marta@email.com'},\n",
       " {'nombre': 'Alex', 'email': 'alex@email.com'},\n",
       " {'nombre': 'Julia', 'email': 'julia@email.com'}]"
      ]
     },
     "execution_count": 24,
     "metadata": {},
     "output_type": "execute_result"
    }
   ],
   "source": [
    "agregar_cliente('Marta', 'marta@email.com')\n",
    "agregar_cliente('Alex', 'alex@email.com')\n",
    "agregar_cliente('Julia', 'julia@email.com')\n",
    "clientes"
   ]
  },
  {
   "cell_type": "markdown",
   "metadata": {},
   "source": [
    "def agregar_cliente(nombre, email, clientes=clientes):\n",
    "    cliente = {'Nombre': nombre, 'email': email}\n",
    "    for cliente in clientes:\n",
    "        if clientes.get(nombre) == nombre:\n",
    "            print(f'El cliente {nombre} ya existe en la base de datos')\n",
    "            cliente.update(email)\n",
    "            print(f'Hemos comprobado su email, y en su caso, lo hemos actualizado {email}')\n",
    "            return\n",
    "    clientes.update(cliente)"
   ]
  },
  {
   "cell_type": "markdown",
   "metadata": {},
   "source": [
    "10 - 'ver_clientes()': Muestra la lista de clientes registrados con sus\n",
    "nombres y correos electrónicos.\n",
    "- Utiliza un bucle 'for' para recorrer la base de datos de clientes.\n",
    "- Imprime los detalles de cada cliente (nombre y correo electrónico)."
   ]
  },
  {
   "cell_type": "code",
   "execution_count": 131,
   "metadata": {},
   "outputs": [],
   "source": [
    "# 1 - Crear una función para mostrar la lista del registro de clientes.\n",
    "# Parámetros: no son necesarios porque es mostrar la información registrada.\n",
    "# 2 - Iterar por la base de datos de clientes usando for.\n",
    "# 3 - Imprimir la lista de los clientes con sus detalles (nombre, email)."
   ]
  },
  {
   "cell_type": "markdown",
   "metadata": {},
   "source": [
    "11 - 'registrar_compra(nombre_cliente, carrito)': Registra una compra para\n",
    "un cliente, actualiza las ventas totales y agrega la compra al historial del\n",
    "cliente. Debe recibir el nombre del cliente y el carrito de compras como\n",
    "parámetros.\n",
    "- Busca al cliente en el diccionario de clientes.\n",
    "- Si el cliente no esta en el diccionario de clientes, muestra que no\n",
    "se puede realizar la acción por que el cliente no está en el diccionario.\n",
    "- Calcula el total de la compra y registra la compra, incluyendo los\n",
    "productos y el total.\n",
    "- Ejemplo:\n",
    "carrito_cliente1 = {\"Camisa\": {\"precio\": 20, \"cantidad\": 3}}\n",
    "tienda.registrar_compra(\"Cliente1\", carrito_cliente1)"
   ]
  },
  {
   "cell_type": "code",
   "execution_count": 132,
   "metadata": {},
   "outputs": [],
   "source": [
    "# 1 - Crear una función para registrar"
   ]
  },
  {
   "cell_type": "markdown",
   "metadata": {},
   "source": [
    "12 - 'ver_compras_cliente(nombre_cliente)': Muestra el historial de compras\n",
    "de un cliente. Debe recibir el nombre del cliente como parámetro.\n",
    "- Busca al cliente en el diccionario de clientes.\n",
    "- Muestra las compras realizadas por el cliente, incluyendo detalles de\n",
    "productos y totales."
   ]
  },
  {
   "cell_type": "markdown",
   "metadata": {},
   "source": [
    "13 - 'calcular_ventas_totales()': Muestra las ventas totales de la tienda.\n",
    "- Suma los totales de todas las compras realizadas y muestra el total\n",
    "de ventas totales en la tienda."
   ]
  },
  {
   "cell_type": "markdown",
   "metadata": {},
   "source": [
    "_Instrucciones:_"
   ]
  },
  {
   "cell_type": "markdown",
   "metadata": {},
   "source": [
    "-   Antes de empezar, hay que crear un nuevo repositorio desde GitHub Classroom usando este enlace.\n",
    "Una vez creado, hay que clonar en nuestro ordenador y en la carpeta creada empezaremos a trabajar\n",
    "en el ejercicio.\n",
    "\n",
    "-   Esta evaluación consta de una serie de preguntas que evalúan tu comprensión y habilidades en relación\n",
    "con funciones, bucles y otros conceptos estudiados en el módulo 1.\n",
    "\n",
    "-   Puedes usar recursos externos, incluyendo internet y materiales de referencia o tus propias notas.\n",
    "\n",
    "-   Completa los ejercicios en un jupyter notebook."
   ]
  },
  {
   "cell_type": "markdown",
   "metadata": {},
   "source": [
    "_Instrucciones Adicionales:\n",
    "Debes crear llamadas a las funciones para demostrar que funcionan correctamente._"
   ]
  },
  {
   "cell_type": "markdown",
   "metadata": {},
   "source": [
    "-   Python Básico:\n",
    "    -   Condicionales (if, elif, else).\n",
    "    -   Bucles (for y while). Importante entender cómo iterar por una lista, o un diccionario.\n",
    "    -   Funciones (creación de funciones con parámetros, parámetros por defecto).\n",
    "    -   Diferencias entre los distintos tipos de datos en python (strings, listas, tuplas, sets y diccionarios).\n",
    "\n",
    "-   Otros criterios a tener en cuenta:\n",
    "    -   Usar inglés para nombres de variables, funciones, clases, mensajes de commit, nombres de ficheros.\n",
    "    -   El repositorio de GitHub debe tener README explicando muy brevemente cómo arrancar el proyecto."
   ]
  }
 ],
 "metadata": {
  "kernelspec": {
   "display_name": "base",
   "language": "python",
   "name": "python3"
  },
  "language_info": {
   "codemirror_mode": {
    "name": "ipython",
    "version": 3
   },
   "file_extension": ".py",
   "mimetype": "text/x-python",
   "name": "python",
   "nbconvert_exporter": "python",
   "pygments_lexer": "ipython3",
   "version": "3.12.4"
  }
 },
 "nbformat": 4,
 "nbformat_minor": 2
}
